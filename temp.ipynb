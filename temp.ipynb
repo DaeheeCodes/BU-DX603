{
 "cells": [
  {
   "cell_type": "code",
   "execution_count": null,
   "id": "cb08870b",
   "metadata": {},
   "outputs": [],
   "source": [
    "# Add as many code cells as you need\n",
    "from sklearn.preprocessing import PolynomialFeatures, FunctionTransformer, StandardScaler\n",
    "from sklearn.pipeline import Pipeline\n",
    "import pandas as pd\n",
    "\n",
    "\n",
    "poly = PolynomialFeatures(degree=2, include_bias=False)\n",
    "log_transformer = FunctionTransformer(func=np.log1p, validate=True)\n",
    "\n",
    "X_train_poly = poly.fit_transform(X_train)\n",
    "X_train_log = log_transformer.fit_transform(X_train)\n",
    "#interaction_terms = X_train.iloc[:, 0] * X_train.iloc[:, 1]\n",
    "#X_train_new = np.hstack((X_train, X_train_poly, X_train_log, interaction_terms.values.reshape(-1, 1)))\n",
    "\n",
    "# Combine original features with new ones\n",
    "X_train_new = np.hstack((X_train, X_train_poly, X_train_log)\n",
    "\n",
    "# Scale features using StandardScaler\n",
    "scaler = StandardScaler()\n",
    "X_train_scaled_new = scaler.fit_transform(X_train_new)\n",
    "\n",
    "results_new = []\n",
    "\n",
    "for name, model in models.items():\n",
    "    scores = cross_val_score(\n",
    "        model,\n",
    "        X_train_scaled_new,\n",
    "        y_train,\n",
    "        scoring=rmse_scorer,\n",
    "        cv=cv,\n",
    "        n_jobs=-1\n",
    "    )\n",
    "    results_new.append({\n",
    "        \"Model\": name,\n",
    "        \"Mean RMSE\": np.sqrt(np.mean(scores)),\n",
    "        \"Std RMSE\": np.sqrt(np.std(scores))\n",
    "    })\n",
    "\n",
    "results_df = pd.DataFrame(results_new)\n",
    "print(results_df)\n"
   ]
  }
 ],
 "metadata": {
  "language_info": {
   "name": "python"
  }
 },
 "nbformat": 4,
 "nbformat_minor": 5
}
